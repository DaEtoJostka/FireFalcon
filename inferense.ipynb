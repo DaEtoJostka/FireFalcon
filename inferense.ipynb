{
 "cells": [
  {
   "cell_type": "code",
   "execution_count": 56,
   "metadata": {},
   "outputs": [],
   "source": [
    "import rasterio\n",
    "import numpy as np\n",
    "import pandas as pd\n",
    "import cv2\n",
    "from catboost import CatBoostClassifier\n",
    "\n",
    "from Nesterov_koef import CFD\n",
    "from api import call_api"
   ]
  },
  {
   "cell_type": "code",
   "execution_count": 55,
   "metadata": {},
   "outputs": [],
   "source": [
    "model = CatBoostClassifier()\n",
    "model = model.load_model('fire_falcon_easy')"
   ]
  },
  {
   "cell_type": "code",
   "execution_count": 57,
   "metadata": {},
   "outputs": [],
   "source": [
    "def transform(img_path):\n",
    "    with rasterio.open(img_path) as src:\n",
    "        red = src.read(1)  # B02 - Blue\n",
    "        green = src.read(2)  # B03 - Green\n",
    "        blue = src.read(3)  # B04 - Red\n",
    "        ik = src.read(4)\n",
    "\n",
    "        img = np.stack([red, green, blue, ik], axis=-1)\n",
    "\n",
    "        img = cv2.resize(img, (135, 106))\n",
    "        \n",
    "        img = img.reshape([135 * 106, 4])\n",
    "\n",
    "        return img\n",
    "    \n",
    "def get_coords(img_path):\n",
    "    with rasterio.open(img_path) as src:\n",
    "        return [src.bounds.top, src.bounds.left]\n",
    "    \n",
    "def get_time(img_path):\n",
    "     return img_path[4:-5]\n",
    "\n",
    "def get_size(img_path):\n",
    "    with rasterio.open(img_path) as src:\n",
    "        return [src.width, src.height]\n",
    "\n",
    "def get_prediction(tiff_path):\n",
    "    image = transform(tiff_path)\n",
    "    predict = model.predict(image)\n",
    "    predict = predict.reshape([106,135,1])\n",
    "\n",
    "    size = get_size(tiff_path)\n",
    "    \n",
    "    return predict"
   ]
  },
  {
   "cell_type": "code",
   "execution_count": 58,
   "metadata": {},
   "outputs": [],
   "source": [
    "img = get_prediction(\"03//2021-06-03.tiff\")"
   ]
  },
  {
   "cell_type": "code",
   "execution_count": 59,
   "metadata": {},
   "outputs": [
    {
     "data": {
      "text/plain": [
       "<matplotlib.image.AxesImage at 0x2590699fd10>"
      ]
     },
     "execution_count": 59,
     "metadata": {},
     "output_type": "execute_result"
    },
    {
     "data": {
      "image/png": "[encoded data removed]",
      "text/plain": [
       "<Figure size 640x480 with 1 Axes>"
      ]
     },
     "metadata": {},
     "output_type": "display_data"
    }
   ],
   "source": [
    "plt.imshow(img)"
   ]
  },
  {
   "cell_type": "markdown",
   "metadata": {},
   "source": []
  }
 ],
 "metadata": {
  "kernelspec": {
   "display_name": "Python 3",
   "language": "python",
   "name": "python3"
  },
  "language_info": {
   "codemirror_mode": {
    "name": "ipython",
    "version": 3
   },
   "file_extension": ".py",
   "mimetype": "text/x-python",
   "name": "python",
   "nbconvert_exporter": "python",
   "pygments_lexer": "ipython3",
   "version": "3.11.0"
  }
 },
 "nbformat": 4,
 "nbformat_minor": 2
}
