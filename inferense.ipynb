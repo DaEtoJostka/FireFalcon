{
 "cells": [
  {
   "cell_type": "code",
   "execution_count": 6,
   "metadata": {},
   "outputs": [],
   "source": [
    "import rasterio\n",
    "import numpy as np\n",
    "import pandas as pd\n",
    "import cv2\n",
    "from catboost import CatBoostClassifier\n",
    "\n",
    "from Nesterov_koef import CFD\n",
    "from api import call_api"
   ]
  },
  {
   "cell_type": "code",
   "execution_count": 10,
   "metadata": {},
   "outputs": [
    {
     "data": {
      "text/plain": [
       "<catboost.core.CatBoostClassifier at 0x259047d82d0>"
      ]
     },
     "execution_count": 10,
     "metadata": {},
     "output_type": "execute_result"
    }
   ],
   "source": [
    "model = CatBoostClassifier()\n",
    "model.load_model('fire_falcon')"
   ]
  },
  {
   "cell_type": "code",
   "execution_count": 16,
   "metadata": {},
   "outputs": [],
   "source": [
    "def transform(img_path):\n",
    "    with rasterio.open(img_path) as src:\n",
    "        red = src.read(1)  # B02 - Blue\n",
    "        green = src.read(2)  # B03 - Green\n",
    "        blue = src.read(3)  # B04 - Red\n",
    "        ik = src.read(4)\n",
    "\n",
    "        cords = get_coords(img_path)\n",
    "        json = call_api(cords[0], cords[1], get_time(img_path)) \n",
    "        data = pd.DataFrame(json)\n",
    "        data = data[['max_temp', 'dewpt', 'precip']].to_numpy() #'precip', 'dewpt', 'max_temp'\n",
    "        coefs = CFD(data[:, 0], data[:, 1], data[:, 2])\n",
    "        vector_expanded = np.tile(coefs, (135*106, 1))\n",
    "\n",
    "        img = np.stack([red, green, blue, ik], axis=-1)\n",
    "\n",
    "        img = cv2.resize(img, (135, 106))\n",
    "        \n",
    "        img = img.reshape([135 * 106, 4])\n",
    "        result = np.hstack((img, vector_expanded))\n",
    "\n",
    "        return result\n",
    "    \n",
    "def get_coords(img_path):\n",
    "    with rasterio.open(img_path) as src:\n",
    "        return [src.bounds.top, src.bounds.left]\n",
    "    \n",
    "def get_time(img_path):\n",
    "     return img_path[4:-5]\n",
    "\n",
    "def get_size(img_path):\n",
    "    with rasterio.open(img_path) as src:\n",
    "        return [src.width, src.height]\n",
    "\n",
    "def get_prediction(tiff_path):\n",
    "    image = transform(tiff_path)\n",
    "    predict = model.predict(image)\n",
    "    predict = predict.reshape([106,135,1])\n",
    "\n",
    "    size = get_size(tiff_path)\n",
    "    #return_image = cv2.resize(predict, size)\n",
    "    return predict#return_image"
   ]
  },
  {
   "cell_type": "code",
   "execution_count": 18,
   "metadata": {},
   "outputs": [],
   "source": [
    "img = get_prediction(\"08//2021-06-08.tiff\")"
   ]
  },
  {
   "cell_type": "code",
   "execution_count": 19,
   "metadata": {},
   "outputs": [
    {
     "data": {
      "text/plain": [
       "(106, 135, 1)"
      ]
     },
     "execution_count": 19,
     "metadata": {},
     "output_type": "execute_result"
    }
   ],
   "source": [
    "img.shape"
   ]
  },
  {
   "cell_type": "markdown",
   "metadata": {},
   "source": []
  }
 ],
 "metadata": {
  "kernelspec": {
   "display_name": "Python 3",
   "language": "python",
   "name": "python3"
  },
  "language_info": {
   "codemirror_mode": {
    "name": "ipython",
    "version": 3
   },
   "file_extension": ".py",
   "mimetype": "text/x-python",
   "name": "python",
   "nbconvert_exporter": "python",
   "pygments_lexer": "ipython3",
   "version": "3.11.0"
  }
 },
 "nbformat": 4,
 "nbformat_minor": 2
}
